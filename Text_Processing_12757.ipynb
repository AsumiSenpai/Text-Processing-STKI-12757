{
 "cells": [
  {
   "cell_type": "markdown",
   "id": "53b4a0ed",
   "metadata": {},
   "source": [
    "<span style=\"font-size:24px;\">Tugas Text Preprocessing</span>"
   ]
  },
  {
   "cell_type": "markdown",
   "id": "abd8fa29",
   "metadata": {},
   "source": [
    "<span style=\"font-size:16px;\">Nama: Raihan Satriya Bagaskara</span>"
   ]
  },
  {
   "cell_type": "markdown",
   "id": "e40762bd",
   "metadata": {},
   "source": [
    "<span style=\"font-size:16px;\">NIM: A11.2020.12757</span>\n",
    "\n",
    "\n",
    "\n",
    "\n"
   ]
  },
  {
   "cell_type": "markdown",
   "id": "2994eb5c",
   "metadata": {},
   "source": [
    "------------------------------------------------------------------------------------------------------------------------------"
   ]
  },
  {
   "cell_type": "markdown",
   "id": "5e583ad0",
   "metadata": {},
   "source": [
    "<span style=\"font-size:24px;\"><strong>Import Resource</strong></span>\n"
   ]
  },
  {
   "cell_type": "code",
   "execution_count": 1,
   "id": "cfe95474",
   "metadata": {},
   "outputs": [],
   "source": [
    "import json\n",
    "import pandas as pd\n",
    "import os\n",
    "import numpy as np"
   ]
  },
  {
   "cell_type": "code",
   "execution_count": 2,
   "id": "bc906966",
   "metadata": {},
   "outputs": [],
   "source": [
    "import nltk\n",
    "\n",
    "import re\n",
    "\n",
    "from nltk.corpus import stopwords\n",
    "from nltk.stem import PorterStemmer\n",
    "from nltk.stem import WordNetLemmatizer\n",
    "from nltk import word_tokenize"
   ]
  },
  {
   "cell_type": "code",
   "execution_count": 3,
   "id": "82bc78ed",
   "metadata": {},
   "outputs": [
    {
     "name": "stderr",
     "output_type": "stream",
     "text": [
      "[nltk_data] Downloading package punkt to\n",
      "[nltk_data]     C:\\Users\\Winry\\AppData\\Roaming\\nltk_data...\n",
      "[nltk_data]   Package punkt is already up-to-date!\n",
      "[nltk_data] Downloading package stopwords to\n",
      "[nltk_data]     C:\\Users\\Winry\\AppData\\Roaming\\nltk_data...\n",
      "[nltk_data]   Package stopwords is already up-to-date!\n",
      "[nltk_data] Downloading package wordnet to\n",
      "[nltk_data]     C:\\Users\\Winry\\AppData\\Roaming\\nltk_data...\n",
      "[nltk_data]   Package wordnet is already up-to-date!\n"
     ]
    },
    {
     "data": {
      "text/plain": [
       "True"
      ]
     },
     "execution_count": 3,
     "metadata": {},
     "output_type": "execute_result"
    }
   ],
   "source": [
    "nltk.download('punkt')\n",
    "nltk.download('stopwords')\n",
    "nltk.download('wordnet')"
   ]
  },
  {
   "cell_type": "markdown",
   "id": "be68f2a6",
   "metadata": {},
   "source": [
    "---------------------------------------------"
   ]
  },
  {
   "cell_type": "markdown",
   "id": "7c5f3397",
   "metadata": {},
   "source": [
    "<span style=\"font-size:24px;\"><strong>Load Data JSON</strong></span>"
   ]
  },
  {
   "cell_type": "code",
   "execution_count": 5,
   "id": "17d989f5",
   "metadata": {},
   "outputs": [],
   "source": [
    "with open('datapackage.json', 'r') as file:\n",
    "    data = json.load(file)"
   ]
  },
  {
   "cell_type": "code",
   "execution_count": 6,
   "id": "93393894",
   "metadata": {},
   "outputs": [
    {
     "name": "stdout",
     "output_type": "stream",
     "text": [
      "   Frequency    bytes                                            datahub  \\\n",
      "0  Quarterly  5554653  {'created': '2018-01-10T08:50:00.114612', 'fin...   \n",
      "\n",
      "                                         description  \\\n",
      "0  Contain data for 59 countries at a quarterly f...   \n",
      "\n",
      "                               hash                        id  \\\n",
      "0  d3197c3e44c896dc6d05c0d819a71142  core/house-prices-global   \n",
      "\n",
      "                  name                                          resources  \\\n",
      "0  house-prices-global  [{'bytes': 295193, 'datahub': {'type': 'origin...   \n",
      "\n",
      "                                             sources  \\\n",
      "0  [{'name': 'Bank For International Settlements ...   \n",
      "\n",
      "                                               title  \n",
      "0  Residential property price statistics from dif...  \n"
     ]
    }
   ],
   "source": [
    "df = pd.DataFrame([data])\n",
    "print(df)"
   ]
  },
  {
   "cell_type": "code",
   "execution_count": 7,
   "id": "e279c4c2",
   "metadata": {},
   "outputs": [
    {
     "data": {
      "text/html": [
       "<div>\n",
       "<style scoped>\n",
       "    .dataframe tbody tr th:only-of-type {\n",
       "        vertical-align: middle;\n",
       "    }\n",
       "\n",
       "    .dataframe tbody tr th {\n",
       "        vertical-align: top;\n",
       "    }\n",
       "\n",
       "    .dataframe thead th {\n",
       "        text-align: right;\n",
       "    }\n",
       "</style>\n",
       "<table border=\"1\" class=\"dataframe\">\n",
       "  <thead>\n",
       "    <tr style=\"text-align: right;\">\n",
       "      <th></th>\n",
       "      <th>Frequency</th>\n",
       "      <th>bytes</th>\n",
       "      <th>datahub</th>\n",
       "      <th>description</th>\n",
       "      <th>hash</th>\n",
       "      <th>id</th>\n",
       "      <th>name</th>\n",
       "      <th>resources</th>\n",
       "      <th>sources</th>\n",
       "      <th>title</th>\n",
       "    </tr>\n",
       "  </thead>\n",
       "  <tbody>\n",
       "    <tr>\n",
       "      <th>0</th>\n",
       "      <td>Quarterly</td>\n",
       "      <td>5554653</td>\n",
       "      <td>{'created': '2018-01-10T08:50:00.114612', 'fin...</td>\n",
       "      <td>Contain data for 59 countries at a quarterly f...</td>\n",
       "      <td>d3197c3e44c896dc6d05c0d819a71142</td>\n",
       "      <td>core/house-prices-global</td>\n",
       "      <td>house-prices-global</td>\n",
       "      <td>[{'bytes': 295193, 'datahub': {'type': 'origin...</td>\n",
       "      <td>[{'name': 'Bank For International Settlements ...</td>\n",
       "      <td>Residential property price statistics from dif...</td>\n",
       "    </tr>\n",
       "  </tbody>\n",
       "</table>\n",
       "</div>"
      ],
      "text/plain": [
       "   Frequency    bytes                                            datahub  \\\n",
       "0  Quarterly  5554653  {'created': '2018-01-10T08:50:00.114612', 'fin...   \n",
       "\n",
       "                                         description  \\\n",
       "0  Contain data for 59 countries at a quarterly f...   \n",
       "\n",
       "                               hash                        id  \\\n",
       "0  d3197c3e44c896dc6d05c0d819a71142  core/house-prices-global   \n",
       "\n",
       "                  name                                          resources  \\\n",
       "0  house-prices-global  [{'bytes': 295193, 'datahub': {'type': 'origin...   \n",
       "\n",
       "                                             sources  \\\n",
       "0  [{'name': 'Bank For International Settlements ...   \n",
       "\n",
       "                                               title  \n",
       "0  Residential property price statistics from dif...  "
      ]
     },
     "execution_count": 7,
     "metadata": {},
     "output_type": "execute_result"
    }
   ],
   "source": [
    "df.head()"
   ]
  },
  {
   "cell_type": "code",
   "execution_count": 8,
   "id": "baa78e0b",
   "metadata": {},
   "outputs": [
    {
     "name": "stdout",
     "output_type": "stream",
     "text": [
      "<class 'pandas.core.frame.DataFrame'>\n",
      "RangeIndex: 1 entries, 0 to 0\n",
      "Data columns (total 10 columns):\n",
      " #   Column       Non-Null Count  Dtype \n",
      "---  ------       --------------  ----- \n",
      " 0   Frequency    1 non-null      object\n",
      " 1   bytes        1 non-null      int64 \n",
      " 2   datahub      1 non-null      object\n",
      " 3   description  1 non-null      object\n",
      " 4   hash         1 non-null      object\n",
      " 5   id           1 non-null      object\n",
      " 6   name         1 non-null      object\n",
      " 7   resources    1 non-null      object\n",
      " 8   sources      1 non-null      object\n",
      " 9   title        1 non-null      object\n",
      "dtypes: int64(1), object(9)\n",
      "memory usage: 208.0+ bytes\n"
     ]
    }
   ],
   "source": [
    "df.info()"
   ]
  },
  {
   "cell_type": "markdown",
   "id": "83696bb3",
   "metadata": {},
   "source": [
    "---------------------------------"
   ]
  },
  {
   "cell_type": "markdown",
   "id": "a29d5747",
   "metadata": {},
   "source": [
    "<span style=\"font-size:24px;\"><strong>Membuat Text menjadi Lowercase</strong></span>"
   ]
  },
  {
   "cell_type": "code",
   "execution_count": 14,
   "id": "76c3c4a3",
   "metadata": {},
   "outputs": [
    {
     "data": {
      "text/plain": [
       "'Contain data for 59 countries at a quarterly frequency (real series are the nominal price series deflated by the consumer price index), both in levels and in growth rates (ie four series per country). These indicators have been selected from the detailed data set to facilitate access for users and enhance comparability. The BIS has made the selection based on the Handbook on Residential Property Prices and the experience and metadata of central banks. An analysis based on these selected indicators is also released on a quarterly basis, with a particular focus on longer-term developments in the May release.'"
      ]
     },
     "execution_count": 14,
     "metadata": {},
     "output_type": "execute_result"
    }
   ],
   "source": [
    "text = df['description'].values[0]\n",
    "text"
   ]
  },
  {
   "cell_type": "markdown",
   "id": "fc14e24b",
   "metadata": {},
   "source": [
    "--------------"
   ]
  },
  {
   "cell_type": "markdown",
   "id": "07ed855f",
   "metadata": {},
   "source": [
    "<span style=\"font-size:24px;\"><strong>Menghilangkan karakter tertentu pada teks</strong></span>\n"
   ]
  },
  {
   "cell_type": "code",
   "execution_count": 15,
   "id": "b556dac4",
   "metadata": {},
   "outputs": [
    {
     "data": {
      "text/plain": [
       "'Contain data for 59 countries at a quarterly frequency real series are the nominal price series deflated by the consumer price index both in levels and in growth rates ie four series per country These indicators have been selected from the detailed data set to facilitate access for users and enhance comparability The BIS has made the selection based on the Handbook on Residential Property Prices and the experience and metadata of central banks An analysis based on these selected indicators is also released on a quarterly basis with a particular focus on longerterm developments in the May release'"
      ]
     },
     "execution_count": 15,
     "metadata": {},
     "output_type": "execute_result"
    }
   ],
   "source": [
    "text = re.sub(r\"[-()\\\"#/@;:<>{}`+=~|.!?,]\", \"\", text)\n",
    "text"
   ]
  },
  {
   "cell_type": "markdown",
   "id": "01334e75",
   "metadata": {},
   "source": [
    "---------------------"
   ]
  },
  {
   "cell_type": "markdown",
   "id": "02fb8061",
   "metadata": {},
   "source": [
    "<span style=\"font-size:24px;\"><strong>Tokenization</strong></span>\n"
   ]
  },
  {
   "cell_type": "code",
   "execution_count": 16,
   "id": "f721dece",
   "metadata": {},
   "outputs": [
    {
     "name": "stdout",
     "output_type": "stream",
     "text": [
      "['Contain', 'data', 'for', '59', 'countries', 'at', 'a', 'quarterly', 'frequency', 'real', 'series', 'are', 'the', 'nominal', 'price', 'series', 'deflated', 'by', 'the', 'consumer', 'price', 'index', 'both', 'in', 'levels', 'and', 'in', 'growth', 'rates', 'ie', 'four', 'series', 'per', 'country', 'These', 'indicators', 'have', 'been', 'selected', 'from', 'the', 'detailed', 'data', 'set', 'to', 'facilitate', 'access', 'for', 'users', 'and', 'enhance', 'comparability', 'The', 'BIS', 'has', 'made', 'the', 'selection', 'based', 'on', 'the', 'Handbook', 'on', 'Residential', 'Property', 'Prices', 'and', 'the', 'experience', 'and', 'metadata', 'of', 'central', 'banks', 'An', 'analysis', 'based', 'on', 'these', 'selected', 'indicators', 'is', 'also', 'released', 'on', 'a', 'quarterly', 'basis', 'with', 'a', 'particular', 'focus', 'on', 'longerterm', 'developments', 'in', 'the', 'May', 'release']\n"
     ]
    }
   ],
   "source": [
    "tokens = word_tokenize(text)\n",
    "print(tokens)"
   ]
  },
  {
   "cell_type": "markdown",
   "id": "64471c9e",
   "metadata": {},
   "source": [
    "-----"
   ]
  },
  {
   "cell_type": "markdown",
   "id": "1e7bad30",
   "metadata": {},
   "source": [
    "<span style=\"font-size:24px;\"><strong>Menghilangkan Stop Words</strong></span>\n"
   ]
  },
  {
   "cell_type": "code",
   "execution_count": 17,
   "id": "138542f2",
   "metadata": {},
   "outputs": [
    {
     "name": "stdout",
     "output_type": "stream",
     "text": [
      "Collecting Sastrawi\n",
      "  Downloading Sastrawi-1.0.1-py2.py3-none-any.whl (209 kB)\n",
      "     -------------------------------------- 209.7/209.7 kB 4.2 MB/s eta 0:00:00\n",
      "Installing collected packages: Sastrawi\n",
      "Successfully installed Sastrawi-1.0.1\n"
     ]
    }
   ],
   "source": [
    "# Install library Sastrawi\n",
    "\n",
    "!pip install Sastrawi"
   ]
  },
  {
   "cell_type": "code",
   "execution_count": 18,
   "id": "9e8bdc7a",
   "metadata": {},
   "outputs": [
    {
     "name": "stdout",
     "output_type": "stream",
     "text": [
      "['yang', 'untuk', 'pada', 'ke', 'para', 'namun', 'menurut', 'antara', 'dia', 'dua', 'ia', 'seperti', 'jika', 'jika', 'sehingga', 'kembali', 'dan', 'tidak', 'ini', 'karena', 'kepada', 'oleh', 'saat', 'harus', 'sementara', 'setelah', 'belum', 'kami', 'sekitar', 'bagi', 'serta', 'di', 'dari', 'telah', 'sebagai', 'masih', 'hal', 'ketika', 'adalah', 'itu', 'dalam', 'bisa', 'bahwa', 'atau', 'hanya', 'kita', 'dengan', 'akan', 'juga', 'ada', 'mereka', 'sudah', 'saya', 'terhadap', 'secara', 'agar', 'lain', 'anda', 'begitu', 'mengapa', 'kenapa', 'yaitu', 'yakni', 'daripada', 'itulah', 'lagi', 'maka', 'tentang', 'demi', 'dimana', 'kemana', 'pula', 'sambil', 'sebelum', 'sesudah', 'supaya', 'guna', 'kah', 'pun', 'sampai', 'sedangkan', 'selagi', 'sementara', 'tetapi', 'apakah', 'kecuali', 'sebab', 'selain', 'seolah', 'seraya', 'seterusnya', 'tanpa', 'agak', 'boleh', 'dapat', 'dsb', 'dst', 'dll', 'dahulu', 'dulunya', 'anu', 'demikian', 'tapi', 'ingin', 'juga', 'nggak', 'mari', 'nanti', 'melainkan', 'oh', 'ok', 'seharusnya', 'sebetulnya', 'setiap', 'setidaknya', 'sesuatu', 'pasti', 'saja', 'toh', 'ya', 'walau', 'tolong', 'tentu', 'amat', 'apalagi', 'bagaimanapun']\n"
     ]
    }
   ],
   "source": [
    "from Sastrawi.StopWordRemover.StopWordRemoverFactory import StopWordRemoverFactory\n",
    "from Sastrawi.Stemmer.StemmerFactory import StemmerFactory\n",
    "\n",
    "stopword_remover_factory = StopWordRemoverFactory()\n",
    "stemmer_factory = StemmerFactory()\n",
    "ina_stemmer = stemmer_factory.create_stemmer()\n",
    "ina_stopword = stopword_remover_factory.create_stop_word_remover()\n",
    "\n",
    "print(stopword_remover_factory.get_stop_words())"
   ]
  },
  {
   "cell_type": "code",
   "execution_count": 19,
   "id": "7bb94670",
   "metadata": {},
   "outputs": [
    {
     "name": "stdout",
     "output_type": "stream",
     "text": [
      "Contain data for 59 countries at a quarterly frequency real series are the nominal price series deflated by the consumer price index both in levels and in growth rates ie four series per country These indicators have been selected from the detailed data set to facilitate access for users and enhance comparability The BIS has made the selection based on the Handbook on Residential Property Prices and the experience and metadata of central banks An analysis based on these selected indicators is also released on a quarterly basis with a particular focus on longerterm developments in the May release\n"
     ]
    },
    {
     "data": {
      "text/plain": [
       "['Contain',\n",
       " 'data',\n",
       " 'for',\n",
       " '59',\n",
       " 'countries',\n",
       " 'at',\n",
       " 'a',\n",
       " 'quarterly',\n",
       " 'frequency',\n",
       " 'real',\n",
       " 'series',\n",
       " 'are',\n",
       " 'the',\n",
       " 'nominal',\n",
       " 'price',\n",
       " 'series',\n",
       " 'deflated',\n",
       " 'by',\n",
       " 'the',\n",
       " 'consumer',\n",
       " 'price',\n",
       " 'index',\n",
       " 'both',\n",
       " 'in',\n",
       " 'levels',\n",
       " 'and',\n",
       " 'in',\n",
       " 'growth',\n",
       " 'rates',\n",
       " 'ie',\n",
       " 'four',\n",
       " 'series',\n",
       " 'per',\n",
       " 'country',\n",
       " 'These',\n",
       " 'indicators',\n",
       " 'have',\n",
       " 'been',\n",
       " 'selected',\n",
       " 'from',\n",
       " 'the',\n",
       " 'detailed',\n",
       " 'data',\n",
       " 'set',\n",
       " 'to',\n",
       " 'facilitate',\n",
       " 'access',\n",
       " 'for',\n",
       " 'users',\n",
       " 'and',\n",
       " 'enhance',\n",
       " 'comparability',\n",
       " 'The',\n",
       " 'BIS',\n",
       " 'has',\n",
       " 'made',\n",
       " 'the',\n",
       " 'selection',\n",
       " 'based',\n",
       " 'on',\n",
       " 'the',\n",
       " 'Handbook',\n",
       " 'on',\n",
       " 'Residential',\n",
       " 'Property',\n",
       " 'Prices',\n",
       " 'and',\n",
       " 'the',\n",
       " 'experience',\n",
       " 'and',\n",
       " 'metadata',\n",
       " 'of',\n",
       " 'central',\n",
       " 'banks',\n",
       " 'An',\n",
       " 'analysis',\n",
       " 'based',\n",
       " 'on',\n",
       " 'these',\n",
       " 'selected',\n",
       " 'indicators',\n",
       " 'is',\n",
       " 'also',\n",
       " 'released',\n",
       " 'on',\n",
       " 'a',\n",
       " 'quarterly',\n",
       " 'basis',\n",
       " 'with',\n",
       " 'a',\n",
       " 'particular',\n",
       " 'focus',\n",
       " 'on',\n",
       " 'longerterm',\n",
       " 'developments',\n",
       " 'in',\n",
       " 'the',\n",
       " 'May',\n",
       " 'release']"
      ]
     },
     "execution_count": 19,
     "metadata": {},
     "output_type": "execute_result"
    }
   ],
   "source": [
    "text_from_token = ' '.join(tokens)\n",
    "print(text_from_token)\n",
    "\n",
    "text_from_token_no_stop_words = ina_stopword.remove(text_from_token)\n",
    "\n",
    "token = word_tokenize(text_from_token_no_stop_words)\n",
    "token"
   ]
  },
  {
   "cell_type": "markdown",
   "id": "bc044f53",
   "metadata": {},
   "source": [
    "----"
   ]
  },
  {
   "cell_type": "markdown",
   "id": "17734ca4",
   "metadata": {},
   "source": [
    "<span style=\"font-size:24px;\"><strong>Stemming</strong></span>\n"
   ]
  },
  {
   "cell_type": "code",
   "execution_count": 20,
   "id": "26f9f3f5",
   "metadata": {},
   "outputs": [
    {
     "data": {
      "text/plain": [
       "'contain data for 59 countries at a quarterly frequency real series are the nominal price series deflated by the consumer price index both in levels and in growth rates ie four series per country these indicators have been selected from the detailed data set to facilitate access for users and enhance comparability the bis has made the selection based on the handbook on residential property prices and the experience and metadata of central banks an analysis based on these selected indicators is also released on a quarterly basis with a particular focus on longerterm developments in the may release'"
      ]
     },
     "execution_count": 20,
     "metadata": {},
     "output_type": "execute_result"
    }
   ],
   "source": [
    "stemmed_text = ina_stemmer.stem(text_from_token_no_stop_words)\n",
    "stemmed_text"
   ]
  },
  {
   "cell_type": "code",
   "execution_count": 21,
   "id": "c808fcdb",
   "metadata": {},
   "outputs": [
    {
     "name": "stdout",
     "output_type": "stream",
     "text": [
      "['contain', 'data', 'for', '59', 'countries', 'at', 'a', 'quarterly', 'frequency', 'real', 'series', 'are', 'the', 'nominal', 'price', 'series', 'deflated', 'by', 'the', 'consumer', 'price', 'index', 'both', 'in', 'levels', 'and', 'in', 'growth', 'rates', 'ie', 'four', 'series', 'per', 'country', 'these', 'indicators', 'have', 'been', 'selected', 'from', 'the', 'detailed', 'data', 'set', 'to', 'facilitate', 'access', 'for', 'users', 'and', 'enhance', 'comparability', 'the', 'bis', 'has', 'made', 'the', 'selection', 'based', 'on', 'the', 'handbook', 'on', 'residential', 'property', 'prices', 'and', 'the', 'experience', 'and', 'metadata', 'of', 'central', 'banks', 'an', 'analysis', 'based', 'on', 'these', 'selected', 'indicators', 'is', 'also', 'released', 'on', 'a', 'quarterly', 'basis', 'with', 'a', 'particular', 'focus', 'on', 'longerterm', 'developments', 'in', 'the', 'may', 'release']\n"
     ]
    }
   ],
   "source": [
    "token_from_stemmed_text = word_tokenize(stemmed_text)\n",
    "print(token_from_stemmed_text)"
   ]
  },
  {
   "cell_type": "markdown",
   "id": "c84f6a50",
   "metadata": {},
   "source": [
    "-------"
   ]
  },
  {
   "cell_type": "markdown",
   "id": "f4ed71f8",
   "metadata": {},
   "source": [
    "<span style=\"font-size:24px;\"><strong>Bag of Words</strong></span>\n"
   ]
  },
  {
   "cell_type": "code",
   "execution_count": 22,
   "id": "f1d96950",
   "metadata": {},
   "outputs": [
    {
     "name": "stdout",
     "output_type": "stream",
     "text": [
      "{'contain': 1, 'data': 2, 'for': 2, '59': 1, 'countries': 1, 'at': 1, 'a': 3, 'quarterly': 2, 'frequency': 1, 'real': 1, 'series': 3, 'are': 1, 'the': 8, 'nominal': 1, 'price': 2, 'deflated': 1, 'by': 1, 'consumer': 1, 'index': 1, 'both': 1, 'in': 3, 'levels': 1, 'and': 4, 'growth': 1, 'rates': 1, 'ie': 1, 'four': 1, 'per': 1, 'country': 1, 'these': 2, 'indicators': 2, 'have': 1, 'been': 1, 'selected': 2, 'from': 1, 'detailed': 1, 'set': 1, 'to': 1, 'facilitate': 1, 'access': 1, 'users': 1, 'enhance': 1, 'comparability': 1, 'bis': 1, 'has': 1, 'made': 1, 'selection': 1, 'based': 2, 'on': 5, 'handbook': 1, 'residential': 1, 'property': 1, 'prices': 1, 'experience': 1, 'metadata': 1, 'of': 1, 'central': 1, 'banks': 1, 'an': 1, 'analysis': 1, 'is': 1, 'also': 1, 'released': 1, 'basis': 1, 'with': 1, 'particular': 1, 'focus': 1, 'longerterm': 1, 'developments': 1, 'may': 1, 'release': 1}\n"
     ]
    }
   ],
   "source": [
    "frekuensi_kata_ina = {}\n",
    "for kata in token_from_stemmed_text:\n",
    "  if kata not in frekuensi_kata_ina:\n",
    "    frekuensi_kata_ina[kata] = 1\n",
    "  else:\n",
    "    frekuensi_kata_ina[kata] += 1\n",
    "\n",
    "print(frekuensi_kata_ina)"
   ]
  },
  {
   "cell_type": "code",
   "execution_count": 29,
   "id": "9c1d7a35",
   "metadata": {},
   "outputs": [
    {
     "data": {
      "image/png": "[encoded data removed]",
      "text/plain": [
       "<Figure size 1200x600 with 1 Axes>"
      ]
     },
     "metadata": {},
     "output_type": "display_data"
    }
   ],
   "source": [
    "import matplotlib.pyplot as plt\n",
    "\n",
    "# Data frekuensi kata\n",
    "kata = list(frekuensi_kata_ina.keys())\n",
    "frekuensi = list(frekuensi_kata_ina.values())\n",
    "\n",
    "plt.figure(figsize=(12, 6))\n",
    "plt.bar(kata, frekuensi)\n",
    "plt.xlabel('Words')\n",
    "plt.ylabel('Frequency')\n",
    "plt.title('Words Frequency in the Text')\n",
    "plt.xticks(rotation=90)\n",
    "plt.tight_layout()\n",
    "\n",
    "plt.show()"
   ]
  }
 ],
 "metadata": {
  "kernelspec": {
   "display_name": "Python 3 (ipykernel)",
   "language": "python",
   "name": "python3"
  },
  "language_info": {
   "codemirror_mode": {
    "name": "ipython",
    "version": 3
   },
   "file_extension": ".py",
   "mimetype": "text/x-python",
   "name": "python",
   "nbconvert_exporter": "python",
   "pygments_lexer": "ipython3",
   "version": "3.10.9"
  }
 },
 "nbformat": 4,
 "nbformat_minor": 5
}
